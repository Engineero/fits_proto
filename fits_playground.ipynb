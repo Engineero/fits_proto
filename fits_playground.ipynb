{
 "cells": [
  {
   "cell_type": "markdown",
   "metadata": {},
   "source": [
    "# FITS Playground\n",
    "---"
   ]
  },
  {
   "cell_type": "code",
   "execution_count": 1,
   "metadata": {},
   "outputs": [],
   "source": [
    "from astropy.io import fits\n",
    "import fits_pb2 as fp"
   ]
  },
  {
   "cell_type": "code",
   "execution_count": 2,
   "metadata": {},
   "outputs": [],
   "source": [
    "fits_image_filename = fits.util.get_testdata_filepath('test0.fits')"
   ]
  },
  {
   "cell_type": "code",
   "execution_count": 3,
   "metadata": {},
   "outputs": [],
   "source": [
    "hdul = fits.open(fits_image_filename)"
   ]
  },
  {
   "cell_type": "code",
   "execution_count": 4,
   "metadata": {},
   "outputs": [
    {
     "name": "stdout",
     "output_type": "stream",
     "text": [
      "Filename: C:\\Users\\ntoner\\AppData\\Local\\Continuum\\anaconda3\\lib\\site-packages\\astropy\\io\\fits\\tests\\data\\test0.fits\n",
      "No.    Name      Ver    Type      Cards   Dimensions   Format\n",
      "  0  PRIMARY       1 PrimaryHDU     138   ()      \n",
      "  1  SCI           1 ImageHDU        61   (40, 40)   int16   \n",
      "  2  SCI           2 ImageHDU        61   (40, 40)   int16   \n",
      "  3  SCI           3 ImageHDU        61   (40, 40)   int16   \n",
      "  4  SCI           4 ImageHDU        61   (40, 40)   int16   \n"
     ]
    }
   ],
   "source": [
    "hdul.info()"
   ]
  },
  {
   "cell_type": "code",
   "execution_count": 5,
   "metadata": {},
   "outputs": [],
   "source": [
    "hdu_header = hdul[0].header"
   ]
  },
  {
   "cell_type": "code",
   "execution_count": 6,
   "metadata": {},
   "outputs": [
    {
     "data": {
      "text/plain": [
       "SIMPLE  =                    T / file does conform to FITS standard             \n",
       "BITPIX  =                   16 / number of bits per data pixel                  \n",
       "NAXIS   =                    0 / number of data axes                            \n",
       "EXTEND  =                    T / FITS dataset may contain extensions            \n",
       "GROUPS  =                    F / data has groups                                \n",
       "NEXTEND =                    4 / Number of standard extensions                  \n",
       "BSCALE  =           1.000000E0 / REAL = TAPE*BSCALE + BZERO                     \n",
       "BZERO   =           3.276800E4 /                                                \n",
       "ORIGIN  = 'NOAO-IRAF FITS Image Kernel Aug 1 1997' / FITS file originator       \n",
       "DATE    = '01/04/99  '         / Date FITS file was generated                   \n",
       "IRAF-TLM= 'xxx     '              / Time of last modification                   \n",
       "                                                                                \n",
       "              / GROUP PARAMETERS: OSS                                           \n",
       "                                                                                \n",
       "              / GROUP PARAMETERS: PODPS                                         \n",
       "                                                                                \n",
       "              / GROUP PARAMETERS: DATA QUALITY FILE SUMMARY                     \n",
       "                                                                                \n",
       "              / GROUP PARAMETERS: PHOTOMETRY                                    \n",
       "                                                                                \n",
       "              / GROUP PARAMETERS: IMAGE STATISTICS                              \n",
       "                                                                                \n",
       "              / WFPC-II DATA DESCRIPTOR KEYWORDS                                \n",
       "INSTRUME= 'WFPC2             ' / identifier for instrument used to acquire data \n",
       "ROOTNAME= 'U2EQ0201T         ' / rootname of the observation set                \n",
       "FILETYPE= 'SCI               ' / shp, ext, edq, sdq, sci                        \n",
       "                                                                                \n",
       "              / SCIENCE INSTRUMENT CONFIGURATION                                \n",
       "MODE    = 'AREA              ' / instr. mode: FULL (full res.), AREA (area int.)\n",
       "SERIALS = 'OFF               ' / serial clocks: ON, OFF                         \n",
       "                                                                                \n",
       "              / IMAGE TYPE CHARACTERISTICS                                      \n",
       "IMAGETYP= 'EXT               ' / type of exposure identifier                    \n",
       "CDBSFILE= 'NO                ' / GENERIC/BIAS/DARK/PREF/FLAT/MASK/ATOD/NO       \n",
       "PKTFMT  =                   96 / packet format code                             \n",
       "                                                                                \n",
       "              / FILTER CONFIGURATION                                            \n",
       "FILTNAM1= 'F673N             ' / first filter name                              \n",
       "FILTNAM2= '                  ' / 2nd    filter name                             \n",
       "FILTER1 =                   33 / first filter number (0-48)                     \n",
       "FILTER2 =                    0 / second filter number (0-48)                    \n",
       "FILTROT =             0.000000 / partial filter rotation angle (degrees)        \n",
       "LRFWAVE =                  0.0 / linear ramp filter wavelength                  \n",
       "                                                                                \n",
       "              / INSTRUMENT STATUS USED IN DATA PROCESSING                       \n",
       "UCH1CJTM=             -88.3486 / TEC cold junction #1 temperature (Celsius)     \n",
       "UCH2CJTM=             -88.8073 / TEC cold junction #2 temperature (Celsius)     \n",
       "UCH3CJTM=             -88.3945 / TEC cold junction #3 temperature (Celsius)     \n",
       "UCH4CJTM=             -88.9041 / TEC cold junction #4 temperature (Celsius)     \n",
       "UBAY3TMP=              14.5969 / bay 3 A1 temperature (deg C)                   \n",
       "KSPOTS  = 'OFF               ' / Status of Kelsall spot lamps: ON, OFF          \n",
       "SHUTTER = 'B                 ' / Shutter in place at beginning of the exposure  \n",
       "ATODGAIN=                  7.0 / Analog to Digital Gain (Electrons/DN)          \n",
       "                                                                                \n",
       "              / RSDP CONTROL KEYWORDS                                           \n",
       "MASKCORR= 'PERFORM           ' / Do mask correction: PERFORM, OMIT, COMPLETE    \n",
       "ATODCORR= 'PERFORM           ' / Do A-to-D correction: PERFORM, OMIT, COMPLETE  \n",
       "BLEVCORR= 'PERFORM           ' / Do bias level correction                       \n",
       "BIASCORR= 'PERFORM           ' / Do bias correction: PERFORM, OMIT, COMPLETE    \n",
       "DARKCORR= 'OMIT              ' / Do dark correction: PERFORM, OMIT, COMPLETE    \n",
       "FLATCORR= 'PERFORM           ' / Do flat field correction                       \n",
       "SHADCORR= 'PERFORM           ' / Do shaded shutter correction                   \n",
       "DOSATMAP= 'OMIT              ' / Output saturated pixel map                     \n",
       "DOPHOTOM= 'PERFORM           ' / Fill photometry keywords                       \n",
       "DOHISTOS= 'OMIT              ' / Make histograms: PERFORM, OMIT, COMPLETE       \n",
       "OUTDTYPE= 'REAL              ' / Output image datatype: REAL, LONG, SHORT       \n",
       "                                                                                \n",
       "              / CALIBRATION REFERENCE FILES                                     \n",
       "MASKFILE= 'uref$fan15478u.r0h' / name of the input DQF of known bad pixels      \n",
       "ATODFILE= 'uref$e1b09594u.r1h' / name of the A-to-D conversion file             \n",
       "BLEVFILE= 'ucal$u2eq0201t.x0h' / Engineering file with extended register data   \n",
       "BLEVDFIL= 'ucal$u2eq0201t.q1h' / Engineering file DQF                           \n",
       "BIASFILE= 'uref$e6o0937du.r2h' / name of the bias frame reference file          \n",
       "BIASDFIL= 'uref$e6o0937du.b2h' / name of the bias frame reference DQF           \n",
       "DARKFILE= 'uref$e6o09384u.r3h' / name of the dark reference file                \n",
       "DARKDFIL= 'uref$e6o09384u.b3h' / name of the dark reference DQF                 \n",
       "FLATFILE= 'uref$e1c1404ju.r4h' / name of the flat field reference file          \n",
       "FLATDFIL= 'uref$e1c1404ju.b4h' / name of the flat field reference DQF           \n",
       "SHADFILE= 'uref$e6o09405u.r5h' / name of the reference file for shutter shading \n",
       "PHOTTAB = '                  ' / name of the photometry calibration table       \n",
       "GRAPHTAB= 'mtab$f7d1401pm.tmg' / the HST graph table                            \n",
       "COMPTAB = 'mtab$f7j1535pm.tmc' / the HST components table                       \n",
       "                                                                                \n",
       "              / DEFAULT KEYWORDS SET BY STSCI                                   \n",
       "SATURATE=                 4095 / Data value at which saturation occurs          \n",
       "USCALE  =                  1.0 / Scale factor for output image                  \n",
       "UZERO   =                  0.0 / Zero point for output image                    \n",
       "                                                                                \n",
       "              / READOUT DURATION INFORMATION                                    \n",
       "READTIME=                  151 / Length of time for CCD readout in clock ticks  \n",
       "                                                                                \n",
       "              / PLANETARY SCIENCE KEYWORDS                                      \n",
       "PA_V3   =        292.387786865 / position angle of v3 of HST (deg)              \n",
       "RA_SUN  =        56.2731208362 / right ascension of the sun (deg)               \n",
       "DEC_SUN =        19.8289107164 / declination of the sun (deg)                   \n",
       "EQNX_SUN=               2000.0 / equinox of the sun                             \n",
       "MTFLAG  =                    T / moving target flag; T if it is a moving target \n",
       "EQRADTRG=                  0.0 / equatorial radius of target (km)               \n",
       "FLATNTRG=                  0.0 / flattening of target                           \n",
       "NPDECTRG=                  0.0 / north pole declination of target (deg)         \n",
       "NPRATRG =                  0.0 / north pole right ascension of target (deg)     \n",
       "ROTRTTRG=                  0.0 / rotation rate of target                        \n",
       "LONGPMER=                  0.0 / longitude of prime meridian (deg)              \n",
       "EPLONGPM=                  0.0 / epoch of longitude of prime meridian (sec)     \n",
       "SURFLATD=                  0.0 / surface feature latitude (deg)                 \n",
       "SURFLONG=                  0.0 / surface feature longitude (deg)                \n",
       "SURFALTD=                  0.0 / surface feature altitude (km)                  \n",
       "                                                                                \n",
       "              / PODPS FILL VALUES                                               \n",
       "PODPSFF =                    F / podps fill present (T/F)                       \n",
       "STDCFFF =                    F / ST DDF fill present (T/F)                      \n",
       "STDCFFP = '0x5569            ' / ST DDF fill pattern (hex)                      \n",
       "RSDPFILL=                 -100 / bad data fill value for calibrated images      \n",
       "                                                                                \n",
       "              / EXPOSURE TIME AND RELATED INFORMATION                           \n",
       "UEXPODUR=                    0 / commanded duration of exposure (sec)           \n",
       "NSHUTA17=                    0 / Number of AP17 shutter B closes                \n",
       "DARKTIME=   2.300000000000E-01 / Dark time (seconds)                            \n",
       "UEXPOTIM=                20272 / Major frame pulse time preceding exposure start\n",
       "PSTRTIME= '1994.139:15:41:39 ' / predicted obs. start time (yyyy.ddd:hh:mm:ss)  \n",
       "PSTPTIME= '1994.139:16:14:39 ' / predicted obs. stop time (yyyy.ddd:hh:mm:ss)   \n",
       "                                                                                \n",
       "                                                                                \n",
       "              / EXPOSURE INFORMATION                                            \n",
       "                                                                                \n",
       "ORIENTAT=              157.076 / position angle of image y axis (deg. e of n)   \n",
       "SUNANGLE=           158.939133 / angle between sun and V1 axis (deg)            \n",
       "MOONANGL=            54.995346 / angle between moon and V1 axis                 \n",
       "SUN_ALT =           -11.552458 / altitude of the sun above Earth's limb         \n",
       "FGSLOCK = 'FINE              ' / commanded FGS lock (FINE,COARSE,GYROS,UNKNOWN) \n",
       "                                                                                \n",
       "DATE-OBS= '19/05/94          ' / UT date of start of observation (dd/mm/yy)     \n",
       "TIME-OBS= '15:41:16          ' / UT time of start of observation (hh:mm:ss)     \n",
       "EXPSTART=   4.949165366175E+04 / exposure start time (Modified Julian Date)     \n",
       "EXPEND  =   4.949165366441E+04 / exposure end time (Modified Julian Date)       \n",
       "EXPTIME =   2.300000000000E-01 / exposure duration (seconds)--calculated        \n",
       "EXPFLAG = 'NORMAL            ' / Exposure interruption indicator                \n",
       "FILENAME= 'vtest3.fits'        / File name                                      "
      ]
     },
     "execution_count": 6,
     "metadata": {},
     "output_type": "execute_result"
    }
   ],
   "source": [
    "hdu_header"
   ]
  },
  {
   "cell_type": "code",
   "execution_count": 20,
   "metadata": {},
   "outputs": [],
   "source": [
    "header_list = []\n",
    "for k, v in zip(hdu_header.keys(), hdu_header.values()):\n",
    "    if k is '':\n",
    "        header_list[-1]['comment'] += v.strip()\n",
    "    else:\n",
    "        header_list.append({k: v, 'comment': hdu_header.comments[k]})"
   ]
  },
  {
   "cell_type": "code",
   "execution_count": 21,
   "metadata": {},
   "outputs": [
    {
     "data": {
      "text/plain": [
       "[{'SIMPLE': True, 'comment': 'file does conform to FITS standard'},\n",
       " {'BITPIX': 16, 'comment': 'number of bits per data pixel'},\n",
       " {'NAXIS': 0, 'comment': 'number of data axes'},\n",
       " {'EXTEND': True, 'comment': 'FITS dataset may contain extensions'},\n",
       " {'GROUPS': False, 'comment': 'data has groups'},\n",
       " {'NEXTEND': 4, 'comment': 'Number of standard extensions'},\n",
       " {'BSCALE': 1.0, 'comment': 'REAL = TAPE*BSCALE + BZERO'},\n",
       " {'BZERO': 32768.0, 'comment': ''},\n",
       " {'ORIGIN': 'NOAO-IRAF FITS Image Kernel Aug 1 1997',\n",
       "  'comment': 'FITS file originator'},\n",
       " {'DATE': '01/04/99', 'comment': 'Date FITS file was generated'},\n",
       " {'IRAF-TLM': 'xxx',\n",
       "  'comment': 'Time of last modification/ GROUP PARAMETERS: OSS/ GROUP PARAMETERS: PODPS/ GROUP PARAMETERS: DATA QUALITY FILE SUMMARY/ GROUP PARAMETERS: PHOTOMETRY/ GROUP PARAMETERS: IMAGE STATISTICS/ WFPC-II DATA DESCRIPTOR KEYWORDS'},\n",
       " {'INSTRUME': 'WFPC2',\n",
       "  'comment': 'identifier for instrument used to acquire data'},\n",
       " {'ROOTNAME': 'U2EQ0201T', 'comment': 'rootname of the observation set'},\n",
       " {'FILETYPE': 'SCI',\n",
       "  'comment': 'shp, ext, edq, sdq, sci/ SCIENCE INSTRUMENT CONFIGURATION'},\n",
       " {'MODE': 'AREA',\n",
       "  'comment': 'instr. mode: FULL (full res.), AREA (area int.)'},\n",
       " {'SERIALS': 'OFF',\n",
       "  'comment': 'serial clocks: ON, OFF/ IMAGE TYPE CHARACTERISTICS'},\n",
       " {'IMAGETYP': 'EXT', 'comment': 'type of exposure identifier'},\n",
       " {'CDBSFILE': 'NO', 'comment': 'GENERIC/BIAS/DARK/PREF/FLAT/MASK/ATOD/NO'},\n",
       " {'PKTFMT': 96, 'comment': 'packet format code/ FILTER CONFIGURATION'},\n",
       " {'FILTNAM1': 'F673N', 'comment': 'first filter name'},\n",
       " {'FILTNAM2': '', 'comment': '2nd    filter name'},\n",
       " {'FILTER1': 33, 'comment': 'first filter number (0-48)'},\n",
       " {'FILTER2': 0, 'comment': 'second filter number (0-48)'},\n",
       " {'FILTROT': 0.0, 'comment': 'partial filter rotation angle (degrees)'},\n",
       " {'LRFWAVE': 0.0,\n",
       "  'comment': 'linear ramp filter wavelength/ INSTRUMENT STATUS USED IN DATA PROCESSING'},\n",
       " {'UCH1CJTM': -88.3486,\n",
       "  'comment': 'TEC cold junction #1 temperature (Celsius)'},\n",
       " {'UCH2CJTM': -88.8073,\n",
       "  'comment': 'TEC cold junction #2 temperature (Celsius)'},\n",
       " {'UCH3CJTM': -88.3945,\n",
       "  'comment': 'TEC cold junction #3 temperature (Celsius)'},\n",
       " {'UCH4CJTM': -88.9041,\n",
       "  'comment': 'TEC cold junction #4 temperature (Celsius)'},\n",
       " {'UBAY3TMP': 14.5969, 'comment': 'bay 3 A1 temperature (deg C)'},\n",
       " {'KSPOTS': 'OFF', 'comment': 'Status of Kelsall spot lamps: ON, OFF'},\n",
       " {'SHUTTER': 'B', 'comment': 'Shutter in place at beginning of the exposure'},\n",
       " {'ATODGAIN': 7.0,\n",
       "  'comment': 'Analog to Digital Gain (Electrons/DN)/ RSDP CONTROL KEYWORDS'},\n",
       " {'MASKCORR': 'PERFORM',\n",
       "  'comment': 'Do mask correction: PERFORM, OMIT, COMPLETE'},\n",
       " {'ATODCORR': 'PERFORM',\n",
       "  'comment': 'Do A-to-D correction: PERFORM, OMIT, COMPLETE'},\n",
       " {'BLEVCORR': 'PERFORM', 'comment': 'Do bias level correction'},\n",
       " {'BIASCORR': 'PERFORM',\n",
       "  'comment': 'Do bias correction: PERFORM, OMIT, COMPLETE'},\n",
       " {'DARKCORR': 'OMIT',\n",
       "  'comment': 'Do dark correction: PERFORM, OMIT, COMPLETE'},\n",
       " {'FLATCORR': 'PERFORM', 'comment': 'Do flat field correction'},\n",
       " {'SHADCORR': 'PERFORM', 'comment': 'Do shaded shutter correction'},\n",
       " {'DOSATMAP': 'OMIT', 'comment': 'Output saturated pixel map'},\n",
       " {'DOPHOTOM': 'PERFORM', 'comment': 'Fill photometry keywords'},\n",
       " {'DOHISTOS': 'OMIT', 'comment': 'Make histograms: PERFORM, OMIT, COMPLETE'},\n",
       " {'OUTDTYPE': 'REAL',\n",
       "  'comment': 'Output image datatype: REAL, LONG, SHORT/ CALIBRATION REFERENCE FILES'},\n",
       " {'MASKFILE': 'uref$fan15478u.r0h',\n",
       "  'comment': 'name of the input DQF of known bad pixels'},\n",
       " {'ATODFILE': 'uref$e1b09594u.r1h',\n",
       "  'comment': 'name of the A-to-D conversion file'},\n",
       " {'BLEVFILE': 'ucal$u2eq0201t.x0h',\n",
       "  'comment': 'Engineering file with extended register data'},\n",
       " {'BLEVDFIL': 'ucal$u2eq0201t.q1h', 'comment': 'Engineering file DQF'},\n",
       " {'BIASFILE': 'uref$e6o0937du.r2h',\n",
       "  'comment': 'name of the bias frame reference file'},\n",
       " {'BIASDFIL': 'uref$e6o0937du.b2h',\n",
       "  'comment': 'name of the bias frame reference DQF'},\n",
       " {'DARKFILE': 'uref$e6o09384u.r3h',\n",
       "  'comment': 'name of the dark reference file'},\n",
       " {'DARKDFIL': 'uref$e6o09384u.b3h',\n",
       "  'comment': 'name of the dark reference DQF'},\n",
       " {'FLATFILE': 'uref$e1c1404ju.r4h',\n",
       "  'comment': 'name of the flat field reference file'},\n",
       " {'FLATDFIL': 'uref$e1c1404ju.b4h',\n",
       "  'comment': 'name of the flat field reference DQF'},\n",
       " {'SHADFILE': 'uref$e6o09405u.r5h',\n",
       "  'comment': 'name of the reference file for shutter shading'},\n",
       " {'PHOTTAB': '', 'comment': 'name of the photometry calibration table'},\n",
       " {'GRAPHTAB': 'mtab$f7d1401pm.tmg', 'comment': 'the HST graph table'},\n",
       " {'COMPTAB': 'mtab$f7j1535pm.tmc',\n",
       "  'comment': 'the HST components table/ DEFAULT KEYWORDS SET BY STSCI'},\n",
       " {'SATURATE': 4095, 'comment': 'Data value at which saturation occurs'},\n",
       " {'USCALE': 1.0, 'comment': 'Scale factor for output image'},\n",
       " {'UZERO': 0.0,\n",
       "  'comment': 'Zero point for output image/ READOUT DURATION INFORMATION'},\n",
       " {'READTIME': 151,\n",
       "  'comment': 'Length of time for CCD readout in clock ticks/ PLANETARY SCIENCE KEYWORDS'},\n",
       " {'PA_V3': 292.387786865, 'comment': 'position angle of v3 of HST (deg)'},\n",
       " {'RA_SUN': 56.2731208362, 'comment': 'right ascension of the sun (deg)'},\n",
       " {'DEC_SUN': 19.8289107164, 'comment': 'declination of the sun (deg)'},\n",
       " {'EQNX_SUN': 2000.0, 'comment': 'equinox of the sun'},\n",
       " {'MTFLAG': True, 'comment': 'moving target flag; T if it is a moving target'},\n",
       " {'EQRADTRG': 0.0, 'comment': 'equatorial radius of target (km)'},\n",
       " {'FLATNTRG': 0.0, 'comment': 'flattening of target'},\n",
       " {'NPDECTRG': 0.0, 'comment': 'north pole declination of target (deg)'},\n",
       " {'NPRATRG': 0.0, 'comment': 'north pole right ascension of target (deg)'},\n",
       " {'ROTRTTRG': 0.0, 'comment': 'rotation rate of target'},\n",
       " {'LONGPMER': 0.0, 'comment': 'longitude of prime meridian (deg)'},\n",
       " {'EPLONGPM': 0.0, 'comment': 'epoch of longitude of prime meridian (sec)'},\n",
       " {'SURFLATD': 0.0, 'comment': 'surface feature latitude (deg)'},\n",
       " {'SURFLONG': 0.0, 'comment': 'surface feature longitude (deg)'},\n",
       " {'SURFALTD': 0.0,\n",
       "  'comment': 'surface feature altitude (km)/ PODPS FILL VALUES'},\n",
       " {'PODPSFF': False, 'comment': 'podps fill present (T/F)'},\n",
       " {'STDCFFF': False, 'comment': 'ST DDF fill present (T/F)'},\n",
       " {'STDCFFP': '0x5569', 'comment': 'ST DDF fill pattern (hex)'},\n",
       " {'RSDPFILL': -100,\n",
       "  'comment': 'bad data fill value for calibrated images/ EXPOSURE TIME AND RELATED INFORMATION'},\n",
       " {'UEXPODUR': 0, 'comment': 'commanded duration of exposure (sec)'},\n",
       " {'NSHUTA17': 0, 'comment': 'Number of AP17 shutter B closes'},\n",
       " {'DARKTIME': 0.23, 'comment': 'Dark time (seconds)'},\n",
       " {'UEXPOTIM': 20272,\n",
       "  'comment': 'Major frame pulse time preceding exposure start'},\n",
       " {'PSTRTIME': '1994.139:15:41:39',\n",
       "  'comment': 'predicted obs. start time (yyyy.ddd:hh:mm:ss)'},\n",
       " {'PSTPTIME': '1994.139:16:14:39',\n",
       "  'comment': 'predicted obs. stop time (yyyy.ddd:hh:mm:ss)/ EXPOSURE INFORMATION'},\n",
       " {'ORIENTAT': 157.076,\n",
       "  'comment': 'position angle of image y axis (deg. e of n)'},\n",
       " {'SUNANGLE': 158.939133, 'comment': 'angle between sun and V1 axis (deg)'},\n",
       " {'MOONANGL': 54.995346, 'comment': 'angle between moon and V1 axis'},\n",
       " {'SUN_ALT': -11.552458, 'comment': \"altitude of the sun above Earth's limb\"},\n",
       " {'FGSLOCK': 'FINE',\n",
       "  'comment': 'commanded FGS lock (FINE,COARSE,GYROS,UNKNOWN)'},\n",
       " {'DATE-OBS': '19/05/94',\n",
       "  'comment': 'UT date of start of observation (dd/mm/yy)'},\n",
       " {'TIME-OBS': '15:41:16',\n",
       "  'comment': 'UT time of start of observation (hh:mm:ss)'},\n",
       " {'EXPSTART': 49491.65366175,\n",
       "  'comment': 'exposure start time (Modified Julian Date)'},\n",
       " {'EXPEND': 49491.65366441,\n",
       "  'comment': 'exposure end time (Modified Julian Date)'},\n",
       " {'EXPTIME': 0.23, 'comment': 'exposure duration (seconds)--calculated'},\n",
       " {'EXPFLAG': 'NORMAL', 'comment': 'Exposure interruption indicator'},\n",
       " {'FILENAME': 'vtest3.fits', 'comment': 'File name'}]"
      ]
     },
     "execution_count": 21,
     "metadata": {},
     "output_type": "execute_result"
    }
   ],
   "source": [
    "header_list"
   ]
  },
  {
   "cell_type": "code",
   "execution_count": 9,
   "metadata": {},
   "outputs": [],
   "source": [
    "hdul.close()"
   ]
  },
  {
   "cell_type": "code",
   "execution_count": 10,
   "metadata": {},
   "outputs": [],
   "source": [
    "fits_fp = fp.Fits()"
   ]
  },
  {
   "cell_type": "code",
   "execution_count": 12,
   "metadata": {},
   "outputs": [],
   "source": [
    "hdu_fp = fp.Hdu()"
   ]
  },
  {
   "cell_type": "code",
   "execution_count": 13,
   "metadata": {},
   "outputs": [],
   "source": [
    "header_fp = fp.Header()"
   ]
  },
  {
   "cell_type": "code",
   "execution_count": 33,
   "metadata": {},
   "outputs": [
    {
     "data": {
      "text/plain": [
       "'SIMPLE'"
      ]
     },
     "execution_count": 33,
     "metadata": {},
     "output_type": "execute_result"
    }
   ],
   "source": [
    "list(header_list[0].keys())[0]"
   ]
  },
  {
   "cell_type": "code",
   "execution_count": 37,
   "metadata": {},
   "outputs": [
    {
     "data": {
      "text/plain": [
       "'file does conform to FITS standard'"
      ]
     },
     "execution_count": 37,
     "metadata": {},
     "output_type": "execute_result"
    }
   ],
   "source": [
    "list(header_list[0].values())[1]"
   ]
  },
  {
   "cell_type": "code",
   "execution_count": 39,
   "metadata": {},
   "outputs": [
    {
     "data": {
      "text/plain": [
       "True"
      ]
     },
     "execution_count": 39,
     "metadata": {},
     "output_type": "execute_result"
    }
   ],
   "source": [
    "header_list[0][list(header_list[0].keys())[0]]"
   ]
  },
  {
   "cell_type": "code",
   "execution_count": 48,
   "metadata": {},
   "outputs": [],
   "source": [
    "def build_pair(pair, keys, values):\n",
    "    pair.key = keys[0]\n",
    "    pair.value = values[0]\n",
    "    pair.comment = values[1]\n",
    "    return pair"
   ]
  },
  {
   "cell_type": "code",
   "execution_count": 44,
   "metadata": {},
   "outputs": [],
   "source": [
    "for d in header_list:\n",
    "    keys = list(d.keys())\n",
    "    values = list(d.values())\n",
    "    if isinstance(values[0], str):\n",
    "        string_pair = dict_fp.StringPair()\n",
    "        string_pair = build_pair(string_pair, keys, values)\n",
    "        header_fp.keywords.string_pairs.extend([string_pair])\n",
    "    if isinstance(values[0], bool):\n",
    "        bool_pair = dict_fp.BoolPair()\n",
    "        bool_pair = build_pair(bool_pair, keys, values)\n",
    "        header_fp.keywords.bool_pairs.extend([bool_pair])\n",
    "    if isinstance(values[0], int):\n",
    "        # TODO (NLT): check sign, check size, and select appropriate int type\n",
    "    if isinstance(value[0], float):\n",
    "        # TODO (NLT): check size and select appropriate type"
   ]
  },
  {
   "cell_type": "code",
   "execution_count": 22,
   "metadata": {},
   "outputs": [
    {
     "data": {
      "text/plain": [
       "['DESCRIPTOR',\n",
       " 'Dictionary',\n",
       " 'Fits',\n",
       " 'Hdu',\n",
       " 'Header',\n",
       " '_DICTIONARY',\n",
       " '_DICTIONARY_BOOLPAIR',\n",
       " '_DICTIONARY_DOUBLEPAIR',\n",
       " '_DICTIONARY_FLOATPAIR',\n",
       " '_DICTIONARY_INT32PAIR',\n",
       " '_DICTIONARY_INT64PAIR',\n",
       " '_DICTIONARY_SINT32PAIR',\n",
       " '_DICTIONARY_SINT64PAIR',\n",
       " '_DICTIONARY_STRINGPAIR',\n",
       " '_FITS',\n",
       " '_HDU',\n",
       " '_HDU_DOUBLEDATA',\n",
       " '_HDU_FLOATDATA',\n",
       " '_HDU_INT32DATA',\n",
       " '_HDU_INT64DATA',\n",
       " '_HDU_SINT32DATA',\n",
       " '_HDU_SINT64DATA',\n",
       " '_HEADER',\n",
       " '__builtins__',\n",
       " '__cached__',\n",
       " '__doc__',\n",
       " '__file__',\n",
       " '__loader__',\n",
       " '__name__',\n",
       " '__package__',\n",
       " '__spec__',\n",
       " '_b',\n",
       " '_descriptor',\n",
       " '_message',\n",
       " '_reflection',\n",
       " '_sym_db',\n",
       " '_symbol_database',\n",
       " 'descriptor_pb2',\n",
       " 'sys']"
      ]
     },
     "execution_count": 22,
     "metadata": {},
     "output_type": "execute_result"
    }
   ],
   "source": [
    "dir(fp)"
   ]
  },
  {
   "cell_type": "code",
   "execution_count": 23,
   "metadata": {},
   "outputs": [],
   "source": [
    "dict_fp = fp.Dictionary()"
   ]
  },
  {
   "cell_type": "code",
   "execution_count": 24,
   "metadata": {},
   "outputs": [
    {
     "data": {
      "text/plain": [
       "['BOOL_PAIRS_FIELD_NUMBER',\n",
       " 'BoolPair',\n",
       " 'ByteSize',\n",
       " 'Clear',\n",
       " 'ClearExtension',\n",
       " 'ClearField',\n",
       " 'CopyFrom',\n",
       " 'DESCRIPTOR',\n",
       " 'DOUBLE_PAIRS_FIELD_NUMBER',\n",
       " 'DiscardUnknownFields',\n",
       " 'DoublePair',\n",
       " 'Extensions',\n",
       " 'FLOAT_PAIRS_FIELD_NUMBER',\n",
       " 'FindInitializationErrors',\n",
       " 'FloatPair',\n",
       " 'FromString',\n",
       " 'HasExtension',\n",
       " 'HasField',\n",
       " 'INT32_PAIRS_FIELD_NUMBER',\n",
       " 'INT64_PAIRS_FIELD_NUMBER',\n",
       " 'Int32Pair',\n",
       " 'Int64Pair',\n",
       " 'IsInitialized',\n",
       " 'ListFields',\n",
       " 'MergeFrom',\n",
       " 'MergeFromString',\n",
       " 'ParseFromString',\n",
       " 'RegisterExtension',\n",
       " 'SINT32_PAIRS_FIELD_NUMBER',\n",
       " 'SINT64_PAIRS_FIELD_NUMBER',\n",
       " 'SInt32Pair',\n",
       " 'SInt64Pair',\n",
       " 'STRING_PAIRS_FIELD_NUMBER',\n",
       " 'SerializePartialToString',\n",
       " 'SerializeToString',\n",
       " 'SetInParent',\n",
       " 'StringPair',\n",
       " 'WhichOneof',\n",
       " '_CheckCalledFromGeneratedFile',\n",
       " '_SetListener',\n",
       " '__class__',\n",
       " '__deepcopy__',\n",
       " '__delattr__',\n",
       " '__dir__',\n",
       " '__doc__',\n",
       " '__eq__',\n",
       " '__format__',\n",
       " '__ge__',\n",
       " '__getattribute__',\n",
       " '__getstate__',\n",
       " '__gt__',\n",
       " '__hash__',\n",
       " '__init__',\n",
       " '__init_subclass__',\n",
       " '__le__',\n",
       " '__lt__',\n",
       " '__module__',\n",
       " '__ne__',\n",
       " '__new__',\n",
       " '__reduce__',\n",
       " '__reduce_ex__',\n",
       " '__repr__',\n",
       " '__setattr__',\n",
       " '__setstate__',\n",
       " '__sizeof__',\n",
       " '__slots__',\n",
       " '__str__',\n",
       " '__subclasshook__',\n",
       " '__unicode__',\n",
       " '_extensions_by_name',\n",
       " '_extensions_by_number']"
      ]
     },
     "execution_count": 24,
     "metadata": {},
     "output_type": "execute_result"
    }
   ],
   "source": [
    "dir(dict_fp)"
   ]
  },
  {
   "cell_type": "code",
   "execution_count": null,
   "metadata": {},
   "outputs": [],
   "source": []
  }
 ],
 "metadata": {
  "kernelspec": {
   "display_name": "Python 3",
   "language": "python",
   "name": "python3"
  },
  "language_info": {
   "codemirror_mode": {
    "name": "ipython",
    "version": 3
   },
   "file_extension": ".py",
   "mimetype": "text/x-python",
   "name": "python",
   "nbconvert_exporter": "python",
   "pygments_lexer": "ipython3",
   "version": "3.6.4"
  }
 },
 "nbformat": 4,
 "nbformat_minor": 2
}
